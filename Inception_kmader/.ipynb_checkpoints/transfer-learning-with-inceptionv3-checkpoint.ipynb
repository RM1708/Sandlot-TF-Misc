{
 "cells": [
  {
   "cell_type": "markdown",
   "metadata": {
    "_cell_guid": "fd10b600-5f8d-4f87-9893-7a8c92763a04",
    "_uuid": "e252cece4ef64c606cd06c398159fa34295231c3"
   },
   "source": [
    "# Intro\n",
    "(Downloaded from https://www.kaggle.com/kmader/transfer-learning-with-inceptionv3/code)\n",
    "\n",
    "The notebook uses pretrained models of InceptionV3 and others (possibly) to try and predict the manufacturer of each camera, not sure why this is a good idea, but it's worth an experiment"
   ]
  },
  {
   "cell_type": "markdown",
   "metadata": {
    "_cell_guid": "f497e185-3e4f-4e40-8fac-35e88b53e2f7",
    "_uuid": "26754ef81cca855665b7a8295ad3ce12207a0fbb"
   },
   "source": [
    "Copy weights into directories keras links"
   ]
  },
  {
   "cell_type": "code",
   "execution_count": null,
   "metadata": {
    "_cell_guid": "6760396c-1a3b-457d-bce5-0d9cc0a24afb",
    "_uuid": "b2432c6a53e22f33875d9e513ab30655404117a9"
   },
   "outputs": [],
   "source": [
    "!mkdir ~/.keras\n",
    "!mkdir ~/.keras/models\n",
    "# not enough space for both\n",
    "#!cp ../input/keras-pretrained-models/* ~/.keras/models/ \n",
    "#!cp ../input/vgg19/* ~/.keras/models\n",
    "!cp ../input/keras-pretrained-models/*notop* ~/.keras/models/\n",
    "!cp ../input/keras-pretrained-models/imagenet_class_index.json ~/.keras/models/\n",
    "!cp ../input/keras-pretrained-models/resnet50* ~/.keras/models/"
   ]
  },
  {
   "cell_type": "code",
   "execution_count": null,
   "metadata": {
    "_cell_guid": "6fd008ce-cdea-4908-945b-74676088fd3c",
    "_uuid": "0574ae9cf202788587b74329b02e051ab88f005b"
   },
   "outputs": [],
   "source": [
    "import numpy as np # linear algebra\n",
    "import pandas as pd # data processing, CSV file I/O (e.g. pd.read_csv)\n",
    "import os\n",
    "from PIL import Image\n",
    "from skimage.transform import resize\n",
    "from random import shuffle"
   ]
  },
  {
   "cell_type": "code",
   "execution_count": null,
   "metadata": {
    "_cell_guid": "f59874a4-e8b4-47e1-b488-34bf0f2b42fb",
    "_uuid": "f9044c11e2b52edecd1a86574309e885094d3a20"
   },
   "outputs": [],
   "source": [
    "list_paths = []\n",
    "for subdir, dirs, files in os.walk(\"../input/sp-society-camera-model-identification/\"):\n",
    "    for file in files:\n",
    "        #print os.path.join(subdir, file)\n",
    "        filepath = subdir + os.sep + file\n",
    "        list_paths.append(filepath)"
   ]
  },
  {
   "cell_type": "code",
   "execution_count": null,
   "metadata": {
    "_cell_guid": "f4ceca4d-77df-4987-a20b-dbaae3ba89e0",
    "_uuid": "982cf9b8f6b9b68b2a476a57d4846db22c76809f"
   },
   "outputs": [],
   "source": [
    "list_train = [filepath for filepath in list_paths if \"train/\" in filepath]\n",
    "shuffle(list_train)\n",
    "list_test = [filepath for filepath in list_paths if \"test/\" in filepath]\n",
    "\n",
    "list_train = list_train\n",
    "list_test = list_test\n",
    "index = [os.path.basename(filepath) for filepath in list_test]"
   ]
  },
  {
   "cell_type": "code",
   "execution_count": null,
   "metadata": {
    "_cell_guid": "c6062575-203b-4062-ae57-7ffbc872f177",
    "_uuid": "fcf5feb59fe568fd999ad95091e067b85e4cf1d2"
   },
   "outputs": [],
   "source": [
    "list_classes = list(set([os.path.dirname(filepath).split(os.sep)[-1] for filepath in list_paths if \"train\" in filepath]))"
   ]
  },
  {
   "cell_type": "code",
   "execution_count": null,
   "metadata": {
    "_cell_guid": "1737834f-8eea-4061-9210-53709a91d623",
    "_uuid": "db99a95c9fd22162ccadc67835dc240a8874f838"
   },
   "outputs": [],
   "source": [
    "list_classes = ['Sony-NEX-7',\n",
    " 'Motorola-X',\n",
    " 'HTC-1-M7',\n",
    " 'Samsung-Galaxy-Note3',\n",
    " 'Motorola-Droid-Maxx',\n",
    " 'iPhone-4s',\n",
    " 'iPhone-6',\n",
    " 'LG-Nexus-5x',\n",
    " 'Samsung-Galaxy-S4',\n",
    " 'Motorola-Nexus-6']"
   ]
  },
  {
   "cell_type": "code",
   "execution_count": null,
   "metadata": {
    "_cell_guid": "7817b75e-cca5-4dd0-b248-ff2c263f8726",
    "_uuid": "5b73c7558e78d92669ae494d0dea924d1e3b55b3"
   },
   "outputs": [],
   "source": [
    "ROWS=139\n",
    "COLS=139\n",
    "from keras.preprocessing.image import ImageDataGenerator\n",
    "from keras.applications.inception_v3 import preprocess_input\n",
    "train_idg = ImageDataGenerator(vertical_flip=True,\n",
    "                               horizontal_flip=True,\n",
    "                               height_shift_range=0.1,\n",
    "                               width_shift_range=0.1,\n",
    "                               preprocessing_function=preprocess_input)\n",
    "train_gen = train_idg.flow_from_directory(\n",
    "    '../input/sp-society-camera-model-identification/train/',\n",
    "    target_size=(ROWS, COLS),\n",
    "    batch_size = 16\n",
    ")"
   ]
  },
  {
   "cell_type": "code",
   "execution_count": null,
   "metadata": {
    "_cell_guid": "9fe6b2ae-d956-49c6-9658-6f02bfab42b6",
    "_uuid": "ab7de25beab727c6ca14ca24a9302538b70e8238"
   },
   "outputs": [],
   "source": [
    "from keras.models import Sequential\n",
    "from keras.models import Model\n",
    "from keras.callbacks import ModelCheckpoint, LearningRateScheduler, EarlyStopping, ReduceLROnPlateau, TensorBoard\n",
    "from keras import optimizers, losses, activations, models\n",
    "from keras.layers import Convolution2D, Dense, Input, Flatten, Dropout, MaxPooling2D, BatchNormalization, GlobalAveragePooling2D, Concatenate\n",
    "from keras import applications\n",
    "input_shape = (ROWS, COLS, 3)\n",
    "nclass = len(train_gen.class_indices)\n",
    "\n",
    "base_model = applications.InceptionV3(weights='imagenet', \n",
    "                                include_top=False, \n",
    "                                input_shape=(ROWS, COLS,3))\n",
    "base_model.trainable = False\n",
    "\n",
    "add_model = Sequential()\n",
    "add_model.add(base_model)\n",
    "add_model.add(GlobalAveragePooling2D())\n",
    "add_model.add(Dropout(0.5))\n",
    "add_model.add(Dense(nclass, \n",
    "                    activation='softmax'))\n",
    "\n",
    "model = add_model\n",
    "model.compile(loss='categorical_crossentropy', \n",
    "              optimizer=optimizers.SGD(lr=1e-4, \n",
    "                                       momentum=0.9),\n",
    "              metrics=['accuracy'])\n",
    "model.summary()"
   ]
  },
  {
   "cell_type": "code",
   "execution_count": null,
   "metadata": {
    "_cell_guid": "d111f13d-c7e8-4b5a-a20e-34a1e67260c9",
    "_uuid": "086bdeb47ed7022e95b46e3c6c3c2ee0eda147d3"
   },
   "outputs": [],
   "source": [
    "file_path=\"weights.best.hdf5\"\n",
    "\n",
    "checkpoint = ModelCheckpoint(file_path, monitor='acc', verbose=1, save_best_only=True, mode='max')\n",
    "\n",
    "early = EarlyStopping(monitor=\"acc\", mode=\"max\", patience=15)\n",
    "\n",
    "callbacks_list = [checkpoint, early] #early\n",
    "\n",
    "history = model.fit_generator(train_gen, \n",
    "                              epochs=2, \n",
    "                              shuffle=True, \n",
    "                              verbose=True,\n",
    "                              callbacks=callbacks_list)"
   ]
  },
  {
   "cell_type": "code",
   "execution_count": null,
   "metadata": {
    "_cell_guid": "1bbc75a8-6711-4b37-af02-b1069eb69fbe",
    "_uuid": "641d27a2a045c06889dbcdf48ce835be40d5758c"
   },
   "outputs": [],
   "source": [
    "model.load_weights(file_path)"
   ]
  },
  {
   "cell_type": "code",
   "execution_count": null,
   "metadata": {
    "_cell_guid": "00b74906-9351-44ba-98a4-03439eabaa23",
    "_uuid": "5bc3e61c261c62093317efd784619c7c988b5b63"
   },
   "outputs": [],
   "source": [
    "test_idg = ImageDataGenerator(preprocessing_function=preprocess_input)\n",
    "test_gen = test_idg.flow_from_directory(\n",
    "    '../input/sp-society-camera-model-identification/',\n",
    "    target_size=(ROWS, COLS),\n",
    "    batch_size = 16,\n",
    "    shuffle = False,\n",
    "    class_mode='binary',\n",
    "    classes = ['test']\n",
    ")\n",
    "len(test_gen.filenames)"
   ]
  },
  {
   "cell_type": "code",
   "execution_count": null,
   "metadata": {
    "_cell_guid": "badeefc1-f3d4-4310-a1d8-785eff174b02",
    "_uuid": "a98a23f680ca5c16ca2c0dec5a50a78a4d0d52e7"
   },
   "outputs": [],
   "source": [
    "predicts = model.predict_generator(test_gen, verbose = True, workers = 2)"
   ]
  },
  {
   "cell_type": "code",
   "execution_count": null,
   "metadata": {
    "_cell_guid": "6733c810-a45e-4206-8db3-3cf099386855",
    "_uuid": "bb64c96160b482fed2ff66df81899a7196d7b099"
   },
   "outputs": [],
   "source": [
    "predicts = np.argmax(predicts, \n",
    "                     axis=1)\n",
    "label_index = {v: k for k,v in train_gen.class_indices.items()}\n",
    "predicts = [label_index[p] for p in predicts]\n",
    "\n",
    "df = pd.DataFrame(columns=['fname', 'camera'])\n",
    "df['fname'] = [os.path.basename(x) for x in test_gen.filenames]\n",
    "df['camera'] = predicts\n",
    "df.to_csv(\"sub1.csv\", index=False)"
   ]
  },
  {
   "cell_type": "code",
   "execution_count": null,
   "metadata": {
    "_uuid": "300d1cc9123c50f1bb27a04755f6ca0d76b8a033"
   },
   "outputs": [],
   "source": []
  }
 ],
 "metadata": {
  "kernelspec": {
   "display_name": "Python 3",
   "language": "python",
   "name": "python3"
  },
  "language_info": {
   "codemirror_mode": {
    "name": "ipython",
    "version": 3
   },
   "file_extension": ".py",
   "mimetype": "text/x-python",
   "name": "python",
   "nbconvert_exporter": "python",
   "pygments_lexer": "ipython3",
   "version": "3.6.5"
  }
 },
 "nbformat": 4,
 "nbformat_minor": 1
}
