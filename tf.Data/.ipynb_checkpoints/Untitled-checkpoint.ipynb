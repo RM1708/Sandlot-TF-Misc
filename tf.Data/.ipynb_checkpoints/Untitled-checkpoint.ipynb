{
 "cells": [
  {
   "cell_type": "markdown",
   "metadata": {},
   "source": [
    "## Source\n",
    "https://stackoverflow.com/questions/47735896/get-length-of-a-dataset-in-tensorflow?noredirect=1&lq=1\n",
    "\n",
    "asked Dec 10 '17 at 4:33\n",
    "Evan Weissburg\n"
   ]
  },
  {
   "cell_type": "code",
   "execution_count": null,
   "metadata": {},
   "outputs": [],
   "source": [
    "import tensorflow as tf\n",
    "#print(tf.__version__)"
   ]
  },
  {
   "cell_type": "code",
   "execution_count": null,
   "metadata": {},
   "outputs": [],
   "source": [
    "NUM_SAMPLES = 10\n",
    "source_dataset = tf.data.TextLineDataset('./data/nmea_ublox_run_60_1-GGA.csv')\n",
    "target_dataset = tf.data.TextLineDataset('./StoppedVehicleInBlindCorner_RV_LatLongInDegrees.csv')\n",
    "print(type(source_dataset))\n",
    "\n",
    "dataset = tf.data.Dataset.zip((source_dataset, target_dataset))\n",
    "print(type(dataset))\n",
    "\n",
    "dataset = dataset.shard(10000, 0)\n",
    "print(type(dataset))\n",
    "\n",
    "dataset = dataset.map(lambda source, target: \\\n",
    "                      (tf.string_to_number(tf.string_split([source], delimiter=',').values, tf.int32), \\\n",
    "                        tf.string_to_number(tf.string_split([target], delimiter=',').values, tf.int32)))\n",
    "print(type(dataset))\n",
    "\n",
    "\n",
    "#dataset = dataset.map(lambda source, target: \\\n",
    "#                      (source, \\\n",
    "#                       tf.concat(([start_token], target), axis=0), \\\n",
    "#                       tf.concat((target, [end_token]), axis=0)))\n",
    "\n",
    "#dataset = dataset.map(lambda source, target_in, target_out: \\\n",
    "#                      (source, tf.size(source), target_in, target_out, tf.size(target_in)))\n",
    "\n",
    "dataset = dataset.shuffle(NUM_SAMPLES)  #This is the important line of code"
   ]
  },
  {
   "cell_type": "code",
   "execution_count": null,
   "metadata": {},
   "outputs": [],
   "source": []
  }
 ],
 "metadata": {
  "kernelspec": {
   "display_name": "Python 3",
   "language": "python",
   "name": "python3"
  },
  "language_info": {
   "codemirror_mode": {
    "name": "ipython",
    "version": 3
   },
   "file_extension": ".py",
   "mimetype": "text/x-python",
   "name": "python",
   "nbconvert_exporter": "python",
   "pygments_lexer": "ipython3",
   "version": "3.6.5"
  }
 },
 "nbformat": 4,
 "nbformat_minor": 2
}
